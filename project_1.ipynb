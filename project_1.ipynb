{
  "nbformat": 4,
  "nbformat_minor": 0,
  "metadata": {
    "colab": {
      "name": "project_1.ipynb",
      "provenance": [],
      "collapsed_sections": [],
      "authorship_tag": "ABX9TyNSDRAu4xqlI+KKjy7nY+rA",
      "include_colab_link": true
    },
    "kernelspec": {
      "name": "python3",
      "display_name": "Python 3"
    },
    "language_info": {
      "name": "python"
    }
  },
  "cells": [
    {
      "cell_type": "markdown",
      "metadata": {
        "id": "view-in-github",
        "colab_type": "text"
      },
      "source": [
        "<a href=\"https://colab.research.google.com/github/akhilsnair2017/Cluster-Structures/blob/main/project_1.ipynb\" target=\"_parent\"><img src=\"https://colab.research.google.com/assets/colab-badge.svg\" alt=\"Open In Colab\"/></a>"
      ]
    },
    {
      "cell_type": "code",
      "execution_count": 6,
      "metadata": {
        "id": "LKwcn-zBkxc0",
        "colab": {
          "base_uri": "https://localhost:8080/"
        },
        "outputId": "75d1042d-d36c-4f67-a275-2deedba58a66"
      },
      "outputs": [
        {
          "output_type": "stream",
          "name": "stderr",
          "text": [
            "100%|██████████| 39620/39620 [00:35<00:00, 1113.03it/s]"
          ]
        },
        {
          "output_type": "stream",
          "name": "stdout",
          "text": [
            "39620\n"
          ]
        },
        {
          "output_type": "stream",
          "name": "stderr",
          "text": [
            "\n"
          ]
        }
      ],
      "source": [
        "import ase,pymatgen\n",
        "from pymatgen.core import Structure\n",
        "from ase import Atoms\n",
        "from pymatgen.ext.matproj import MPRester\n",
        "from pymatgen.io.ase import AseAtomsAdaptor\n",
        "from ase.calculators.aims import AimsCube\n",
        "from ase.optimize import QuasiNewton\n",
        "from ase.calculators.aims import Aims\n",
        "#MP_query\n",
        "mpr=MPRester(\"TImMWwVkb3Hifdho\")\n",
        "#oxide_specs=mpr.query(criteria={\"formation_energy_per_atom\":{\"$gte\":-10,\"$lte\":1},\"band_gap\":\n",
        "  #  {\"$gte\":1.5,\"$lte\":3.5},\"e_above_hull\":{\"$gte\":0,\"$lte\":1},\"elements\":\"O\",\"nelements\":{\"$gte\":2,\"$lte\":4}},properties=[\"material_id\"])\n",
        "oxide_specs=mpr.query(criteria={\"elements\":\"O\",\"nelements\":{\"$gte\":2,\"$lte\":10},\"band_gap\":{\"$gte\":0.2}},properties=[\"material_id\"])\n",
        "oxide_mp_ids=[i[\"material_id\"] for i in oxide_specs]\n",
        "\n"
      ]
    },
    {
      "cell_type": "code",
      "source": [
        "\n",
        "first=mpr.get_c(oxide_mp_ids[0])\n",
        "first"
      ],
      "metadata": {
        "colab": {
          "base_uri": "https://localhost:8080/"
        },
        "id": "tJcrz8BCocLp",
        "outputId": "cf6a98b7-ea36-4b2a-a187-83d12663d4a5"
      },
      "execution_count": 19,
      "outputs": [
        {
          "output_type": "execute_result",
          "data": {
            "text/plain": [
              "116.50098727499999"
            ]
          },
          "metadata": {},
          "execution_count": 19
        }
      ]
    },
    {
      "cell_type": "code",
      "source": [
        "\n"
      ],
      "metadata": {
        "id": "yUb3ZlyYxQQO"
      },
      "execution_count": null,
      "outputs": []
    }
  ]
}